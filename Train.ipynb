{
 "cells": [
  {
   "cell_type": "code",
   "execution_count": 1,
   "metadata": {},
   "outputs": [
    {
     "ename": "ModuleNotFoundError",
     "evalue": "No module named 'pypdf2'",
     "output_type": "error",
     "traceback": [
      "\u001b[1;31m---------------------------------------------------------------------------\u001b[0m",
      "\u001b[1;31mModuleNotFoundError\u001b[0m                       Traceback (most recent call last)",
      "Cell \u001b[1;32mIn[1], line 2\u001b[0m\n\u001b[0;32m      1\u001b[0m \u001b[38;5;28;01mimport\u001b[39;00m \u001b[38;5;21;01mos\u001b[39;00m\n\u001b[1;32m----> 2\u001b[0m \u001b[38;5;28;01mfrom\u001b[39;00m \u001b[38;5;21;01mpypdf2\u001b[39;00m \u001b[38;5;28;01mimport\u001b[39;00m PdfReader\n\u001b[0;32m      4\u001b[0m \u001b[38;5;28;01mdef\u001b[39;00m \u001b[38;5;21mprepare_dataset\u001b[39m(data_path):\n\u001b[0;32m      5\u001b[0m     dataset \u001b[38;5;241m=\u001b[39m []\n",
      "\u001b[1;31mModuleNotFoundError\u001b[0m: No module named 'pypdf2'"
     ]
    }
   ],
   "source": [
    "import os\n",
    "from pypdf2 import PdfReader\n",
    "\n",
    "def prepare_dataset(data_path):\n",
    "    dataset = []\n",
    "    for filename in os.listdir(data_path):\n",
    "        if filename.endswith(\".pdf\"):\n",
    "            pdf_path = os.path.join(data_path, filename)\n",
    "            reader = PdfReader(pdf_path)\n",
    "            text = \"\"\n",
    "            for page in reader.pages:\n",
    "                text += page.extract_text()\n",
    "            dataset.append({\"input\": text, \"labels\": text})  # Assuming you want to use the same text for input and labels\n",
    "    return dataset"
   ]
  },
  {
   "cell_type": "code",
   "execution_count": null,
   "metadata": {},
   "outputs": [],
   "source": [
    "import torch\n",
    "from transformers import LlamaForCausalLM, LlamaTokenizer\n",
    "from torch.quantization import quantize_dynamic\n",
    "\n",
    "# Load pre-trained model and tokenizer\n",
    "model_name = \"meta-llama/Llama-2-7b\"\n",
    "model = LlamaForCausalLM.from_pretrained(model_name)\n",
    "tokenizer = LlamaTokenizer.from_pretrained(model_name)\n",
    "\n",
    "# Quantize the model (post-training quantization)\n",
    "model = quantize_dynamic(model, {torch.nn.Linear}, dtype=torch.qint8)\n",
    "\n",
    "# Fine-tuning loop (simplified)\n",
    "def fine_tune(model, tokenizer, dataset):\n",
    "    model.train()\n",
    "    for epoch in range(num_epochs):\n",
    "        for batch in dataset:\n",
    "            inputs = tokenizer(batch['input'], return_tensors=\"pt\", padding=True, truncation=True)\n",
    "            labels = tokenizer(batch['labels'], return_tensors=\"pt\", padding=True, truncation=True)\n",
    "            outputs = model(**inputs, labels=labels)\n",
    "            loss = outputs.loss\n",
    "            loss.backward()\n",
    "            optimizer.step()\n",
    "            optimizer.zero_grad()\n",
    "\n",
    "# Define hyperparameters\n",
    "num_epochs = 3\n",
    "learning_rate = 5e-5\n",
    "optimizer = torch.optim.AdamW(model.parameters(), lr=learning_rate)\n",
    "\n",
    "# Load and prepare your dataset\n",
    "data_path = \"PDFS\"\n",
    "dataset = prepare_dataset(data_path)\n",
    "\n",
    "# Fine-tune the model\n",
    "fine_tune(model, tokenizer, dataset)\n",
    "\n",
    "# Save the fine-tuned model\n",
    "model.save_pretrained(\"fine-tuned-model\")\n",
    "tokenizer.save_pretrained(\"fine-tuned-model\")\n"
   ]
  }
 ],
 "metadata": {
  "kernelspec": {
   "display_name": "venv",
   "language": "python",
   "name": "python3"
  },
  "language_info": {
   "codemirror_mode": {
    "name": "ipython",
    "version": 3
   },
   "file_extension": ".py",
   "mimetype": "text/x-python",
   "name": "python",
   "nbconvert_exporter": "python",
   "pygments_lexer": "ipython3",
   "version": "3.12.2"
  }
 },
 "nbformat": 4,
 "nbformat_minor": 2
}
